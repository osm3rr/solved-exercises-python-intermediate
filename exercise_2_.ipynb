{
 "cells": [
  {
   "cell_type": "markdown",
   "metadata": {},
   "source": [
    "# Exercise 2\n",
    "Write a short Python function, is even(k), that takes an integer value and returns True if k is even, and False otherwise. However, your function\n",
    "cannot use the multiplication, modulo, or division operators."
   ]
  },
  {
   "cell_type": "code",
   "execution_count": 1,
   "metadata": {},
   "outputs": [],
   "source": [
    "# Solution\n",
    "def even( k ):\n",
    "    \"\"\" Takes an integer value and returns True if k is even, and False otherwise.\n",
    "    k: integer.\n",
    "    return True => k: even\n",
    "    return False => k: odd\n",
    "    \"\"\"\n",
    "    \n",
    "    ### solution 1\n",
    "    # if k % 2 == 0:\n",
    "    #     return True\n",
    "    # else:\n",
    "    #     return False\n",
    "    \n",
    "    # Solution 2\n",
    "    k_string = str( k)\n",
    "    \n",
    "    if (k_string[-1] == '2') or \\\n",
    "        (k_string[-1] == '4') or \\\n",
    "        (k_string[-1] == '6') or \\\n",
    "        (k_string[-1] == '8') or \\\n",
    "        (k_string[-1] == '0'):\n",
    "        return True\n",
    "    else:\n",
    "        return False"
   ]
  },
  {
   "cell_type": "code",
   "execution_count": 3,
   "metadata": {},
   "outputs": [
    {
     "data": {
      "text/plain": [
       "False"
      ]
     },
     "execution_count": 3,
     "metadata": {},
     "output_type": "execute_result"
    }
   ],
   "source": [
    "even( 221 )"
   ]
  }
 ],
 "metadata": {
  "interpreter": {
   "hash": "3313d7862e35f23cb796a0d5e1a05f5386948db6518b51457360428deb8d3fb3"
  },
  "kernelspec": {
   "display_name": "Python 3.8.3 64-bit ('base': conda)",
   "language": "python",
   "name": "python3"
  },
  "language_info": {
   "codemirror_mode": {
    "name": "ipython",
    "version": 3
   },
   "file_extension": ".py",
   "mimetype": "text/x-python",
   "name": "python",
   "nbconvert_exporter": "python",
   "pygments_lexer": "ipython3",
   "version": "3.8.3"
  },
  "orig_nbformat": 4
 },
 "nbformat": 4,
 "nbformat_minor": 2
}
